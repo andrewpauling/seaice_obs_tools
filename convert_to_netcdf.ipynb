{
 "cells": [
  {
   "cell_type": "code",
   "execution_count": 4,
   "id": "22bbe01c-61cc-43d1-b0a9-ba65d68b61d7",
   "metadata": {},
   "outputs": [],
   "source": [
    "import numpy as np\n",
    "import matplotlib as mpl\n",
    "import matplotlib.pyplot as plt\n",
    "import xarray as xr\n",
    "from pandas import read_csv\n",
    "from pathlib import Path"
   ]
  },
  {
   "cell_type": "code",
   "execution_count": 109,
   "id": "95bb6954-524e-4aa3-bf56-dd95bed14345",
   "metadata": {},
   "outputs": [],
   "source": [
    "def convert_to_xarray(x):\n",
    "    ds = xr.Dataset.from_dataframe(x)\n",
    "    ds = ds.assign_coords({\"year\": ds.year})\n",
    "\n",
    "    # Strip whitespace from variables names\n",
    "    for var in ds.data_vars:\n",
    "        ds = ds.rename({var: var.strip()})\n",
    "\n",
    "    ds = ds.drop_vars([\"index\", \"region\", \"data-type\"])\n",
    "    \n",
    "    if ds[\"mo\"].data[0] < 10:\n",
    "        t = [str(ds[\"year\"].data[n])+\"-0\"+str(ds[\"mo\"].data[0])+\"-15\" for n in range(ds[\"year\"].size)]\n",
    "    else:\n",
    "        t = [str(ds[\"year\"].data[n])+\"-\"+str(ds[\"mo\"].data[0])+\"-15\" for n in range(ds[\"year\"].size)]\n",
    "\n",
    "    time = [np.datetime64(entry) for entry in t]\n",
    "    \n",
    "    ds = ds.assign_coords({\"time\": (\"index\", time)})\n",
    "    ds = ds.drop_vars([\"year\", \"mo\"])\n",
    "    \n",
    "    ds = ds.swap_dims({\"index\": \"time\"})\n",
    "    return ds"
   ]
  },
  {
   "cell_type": "code",
   "execution_count": 117,
   "id": "e0bff29a-6616-4203-ae54-8e6cde4ed15b",
   "metadata": {},
   "outputs": [],
   "source": [
    "def write_to_netcdf(hemisphere):\n",
    "    \n",
    "    if hemisphere not in [\"north\", \"south\"]:\n",
    "        raise ValueError(\"Not a valid name, must be one of 'north', 'south'.\")\n",
    "    \n",
    "    dslist = []\n",
    "    for file in Path(\"south\").glob(\"*.csv\"):\n",
    "        x = read_csv(file)\n",
    "        dslist.append(convert_to_xarray(x))\n",
    "\n",
    "    ds = xr.merge(dslist)\n",
    "\n",
    "    ds[\"area\"] = ds[\"area\"].where(ds[\"area\"] > -1000, np.nan)\n",
    "    ds[\"extent\"] = ds[\"extent\"].where(ds[\"extent\"] > -1000, np.nan)\n",
    "\n",
    "    ds.to_netcdf(\"nsidc_seaice_\"+hemisphere+\".nc\")"
   ]
  },
  {
   "cell_type": "code",
   "execution_count": 118,
   "id": "3005e935-f439-424d-9327-45d515aa6aaa",
   "metadata": {},
   "outputs": [],
   "source": [
    "write_to_netcdf(\"north\")\n",
    "write_to_netcdf(\"south\")"
   ]
  },
  {
   "cell_type": "code",
   "execution_count": null,
   "id": "e4e3b706-9e3f-4906-b93f-0f93cb785096",
   "metadata": {},
   "outputs": [],
   "source": []
  },
  {
   "cell_type": "code",
   "execution_count": 113,
   "id": "0dd3b5ce-be97-4e15-9001-2bb1d89dfedf",
   "metadata": {},
   "outputs": [],
   "source": []
  },
  {
   "cell_type": "code",
   "execution_count": null,
   "id": "f2c80134-ba3e-4a41-bfc8-945ae11a996c",
   "metadata": {},
   "outputs": [],
   "source": []
  },
  {
   "cell_type": "code",
   "execution_count": null,
   "id": "72227b9c-15b9-4f1d-8ca3-1f09080c99b9",
   "metadata": {},
   "outputs": [],
   "source": []
  }
 ],
 "metadata": {
  "kernelspec": {
   "display_name": "Python 3 (ipykernel)",
   "language": "python",
   "name": "python3"
  },
  "language_info": {
   "codemirror_mode": {
    "name": "ipython",
    "version": 3
   },
   "file_extension": ".py",
   "mimetype": "text/x-python",
   "name": "python",
   "nbconvert_exporter": "python",
   "pygments_lexer": "ipython3",
   "version": "3.10.8"
  }
 },
 "nbformat": 4,
 "nbformat_minor": 5
}
